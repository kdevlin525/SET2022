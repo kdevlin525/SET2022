{
 "cells": [
  {
   "cell_type": "code",
   "execution_count": 1,
   "metadata": {},
   "outputs": [],
   "source": [
    "# all the good stuff\n",
    "import os,sys\n",
    "import glob\n",
    "import pandas as pd\n",
    "import math\n",
    "from osgeo import gdal\n",
    "import numpy as np\n",
    "from array import array\n",
    "from scipy  import signal\n",
    "import matplotlib.pyplot as plt\n",
    "import matplotlib.patches as mpatches\n",
    "from scipy.stats import gaussian_kde\n",
    "#matplotlib  widget"
   ]
  },
  {
   "cell_type": "code",
   "execution_count": 6,
   "metadata": {},
   "outputs": [],
   "source": [
    "workdir = '/data/krd86/cropped/'\n",
    "\n",
    "# read in coherence stats if not saved in output\n",
    "f1 = gdal.Open(workdir+'cor_avg.r4', gdal.GA_ReadOnly)\n",
    "cor_avg = f1.ReadAsArray()\n",
    "f1 = gdal.Open(workdir+'cor_med.r4', gdal.GA_ReadOnly)\n",
    "cor_med = f1.ReadAsArray()\n",
    "f1 = gdal.Open(workdir+'cor_std.r4', gdal.GA_ReadOnly)\n",
    "cor_std = f1.ReadAsArray()\n",
    "f1 = None"
   ]
  },
  {
   "cell_type": "code",
   "execution_count": 7,
   "metadata": {},
   "outputs": [],
   "source": [
    "#read in crop data and mask out changes between 2019-2021\n",
    "f1 = gdal.Open(workdir+'cropscape/radar/CDL_2019_clip_20220408094633_39327711.tif', gdal.GA_ReadOnly)\n",
    "crops = f1.ReadAsArray()\n",
    "f1 = gdal.Open(workdir+'cropscape/dict/same_mask.r4', gdal.GA_ReadOnly)\n",
    "same_mask = f1.ReadAsArray()\n",
    "f1 = gdal.Open(workdir+'cropscape/dict/diff_mask.r4', gdal.GA_ReadOnly)\n",
    "diff_mask = f1.ReadAsArray()\n",
    "f1 = None"
   ]
  },
  {
   "cell_type": "code",
   "execution_count": 8,
   "metadata": {},
   "outputs": [],
   "source": [
    "flat_cor_med = cor_med.flatten()\n",
    "flat_cor_std = cor_std.flatten()\n",
    "nan_flat_cor_med = np.nan_to_num(flat_cor_med)\n",
    "nan_flat_cor_std = np.nan_to_num(flat_cor_std)\n",
    "flat_crops = crops.flatten()\n",
    "\n",
    "flat_same_mask = same_mask.flatten()\n",
    "flat_diff_mask = diff_mask.flatten()\n",
    "same_crops = flat_crops*flat_same_mask\n",
    "same_med = flat_cor_med*flat_same_mask\n",
    "same_std = flat_cor_std*flat_same_mask"
   ]
  },
  {
   "cell_type": "code",
   "execution_count": 16,
   "metadata": {},
   "outputs": [
    {
     "data": {
      "text/plain": [
       "Counter({72: 5025,\n",
       "         212: 4350,\n",
       "         211: 1058,\n",
       "         24: 70334,\n",
       "         123: 13484,\n",
       "         66: 1593,\n",
       "         28: 8711,\n",
       "         61: 242641,\n",
       "         76: 12929,\n",
       "         205: 5711,\n",
       "         122: 18546,\n",
       "         69: 44759,\n",
       "         71: 3310,\n",
       "         176: 223699,\n",
       "         220: 3980,\n",
       "         75: 100685,\n",
       "         36: 47622,\n",
       "         1: 17488,\n",
       "         2: 116677,\n",
       "         121: 31918,\n",
       "         228: 13567,\n",
       "         225: 47040,\n",
       "         204: 90780,\n",
       "         131: 9660,\n",
       "         21: 16404,\n",
       "         111: 9555,\n",
       "         236: 7801,\n",
       "         195: 5660,\n",
       "         217: 6661,\n",
       "         237: 347,\n",
       "         226: 413,\n",
       "         124: 2974,\n",
       "         54: 42304,\n",
       "         4: 2061,\n",
       "         190: 174,\n",
       "         51: 1701,\n",
       "         37: 2800,\n",
       "         227: 1579,\n",
       "         208: 6006,\n",
       "         22: 6049,\n",
       "         213: 447,\n",
       "         152: 34489,\n",
       "         218: 102,\n",
       "         49: 4713,\n",
       "         27: 1330,\n",
       "         242: 84,\n",
       "         53: 429,\n",
       "         33: 18344,\n",
       "         206: 803,\n",
       "         44: 203,\n",
       "         74: 179,\n",
       "         47: 116,\n",
       "         59: 111,\n",
       "         3: 31,\n",
       "         58: 2,\n",
       "         67: 31,\n",
       "         57: 610,\n",
       "         23: 243,\n",
       "         222: 112,\n",
       "         216: 63,\n",
       "         209: 592,\n",
       "         42: 1,\n",
       "         238: 2,\n",
       "         43: 19,\n",
       "         48: 1,\n",
       "         221: 2,\n",
       "         45: 1,\n",
       "         12: 1,\n",
       "         46: 122,\n",
       "         214: 6,\n",
       "         219: 1,\n",
       "         142: 180,\n",
       "         143: 1072,\n",
       "         6: 2})"
      ]
     },
     "execution_count": 16,
     "metadata": {},
     "output_type": "execute_result"
    }
   ],
   "source": [
    "from collections import Counter\n",
    "Counter(flat_crops)\n"
   ]
  }
 ],
 "metadata": {
  "kernelspec": {
   "display_name": "Python 3.8.12 ('insar_analysis')",
   "language": "python",
   "name": "python3"
  },
  "language_info": {
   "codemirror_mode": {
    "name": "ipython",
    "version": 3
   },
   "file_extension": ".py",
   "mimetype": "text/x-python",
   "name": "python",
   "nbconvert_exporter": "python",
   "pygments_lexer": "ipython3",
   "version": "3.8.12"
  },
  "orig_nbformat": 4,
  "vscode": {
   "interpreter": {
    "hash": "70aaa7775d3c66710519d6273a12113d703c06363db8b21a258b24ecf6f245e7"
   }
  }
 },
 "nbformat": 4,
 "nbformat_minor": 2
}
