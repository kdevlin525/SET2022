{
 "cells": [
  {
   "cell_type": "code",
   "execution_count": null,
   "metadata": {},
   "outputs": [],
   "source": [
    "from pystac_client import Client  \n",
    "from collections import defaultdict    \n",
    "import json\n",
    "import geopandas\n",
    "import geoviews as gv\n",
    "from cartopy import crs\n",
    "import matplotlib.pyplot as plt\n",
    "from datetime import datetime\n",
    "import os\n",
    "import requests\n",
    "from lxml import etree\n",
    "import boto3\n",
    "import numpy as np\n",
    "import xarray as xr\n",
    "import rasterio as rio\n",
    "from rasterio.session import AWSSession\n",
    "from rasterio.plot import show\n",
    "import rioxarray\n",
    "import geoviews as gv\n",
    "import hvplot.xarray\n",
    "import holoviews as hv\n",
    "from tqdm import tqdm\n",
    "from pprint import pprint\n",
    "import time\n",
    "gv.extension('bokeh', 'matplotlib')"
   ]
  },
  {
   "cell_type": "markdown",
   "metadata": {},
   "source": [
    "## Load images and visualize"
   ]
  },
  {
   "cell_type": "code",
   "execution_count": null,
   "metadata": {},
   "outputs": [],
   "source": [
    "print(path_dicts['Green'])"
   ]
  },
  {
   "cell_type": "code",
   "execution_count": null,
   "metadata": {},
   "outputs": [],
   "source": [
    "def time_index_from_filenames(file_links):\n",
    "    return [datetime.strptime(f.split('.')[-5], '%Y%jT%H%M%S') for f in file_links]"
   ]
  },
  {
   "cell_type": "code",
   "execution_count": null,
   "metadata": {},
   "outputs": [],
   "source": [
    "time = xr.Variable('time', time_index_from_filenames(path_dicts['Green']))\n",
    "chunks=dict(band=1, x=512, y=512)\n",
    "hls_ts_da_GRN = xr.concat([rioxarray.open_rasterio(f, chunks=chunks).squeeze('band', drop=True) for f in path_dicts['Green']], dim=time)\n",
    "#hls_ts_da_NIR = xr.concat([rioxarray.open_rasterio(f, chunks=chunks).squeeze('band', drop=True) for f in path_dicts['NIR']], dim=time)\n",
    "#hls_ts_da_GRN = hls_ts_da_GRN.rio.reproject(\"epsg:4326\")\n",
    "#hls_ts_da_NIR = hls_ts_da_NIR.rio.reproject(\"epsg:4326\")"
   ]
  },
  {
   "cell_type": "code",
   "execution_count": null,
   "metadata": {},
   "outputs": [],
   "source": [
    "hls_ts_da_data_GRN = hls_ts_da_GRN.load()\n",
    "hls_ts_da_data_NIR = hls_ts_da_NIR.load()\n",
    "hls_ts_da_data_GRN = hls_ts_da_data_GRN.rio.clip([roi])\n",
    "hls_ts_da_data_NIR = hls_ts_da_data_NIR.rio.clip([roi])"
   ]
  },
  {
   "cell_type": "code",
   "execution_count": null,
   "metadata": {},
   "outputs": [],
   "source": [
    "hls_ts_da_data_GRN.hvplot.image(x='x', y='y', rasterize=True, width=600, height=400, colorbar=True, cmap='gray').opts(clim=(0,2000))"
   ]
  },
  {
   "cell_type": "code",
   "execution_count": null,
   "metadata": {},
   "outputs": [],
   "source": [
    "## Caclulate Normalized Difference Water Index (NDWI) and Classify Innundated Areas"
   ]
  },
  {
   "cell_type": "code",
   "execution_count": null,
   "metadata": {},
   "outputs": [],
   "source": [
    "GRN = hls_ts_da_data_GRN \n",
    "NIR = hls_ts_da_data_NIR\n",
    "NDWI = (GRN-NIR)/(GRN+NIR)\n",
    "NDWI.hvplot.image(x='x', y='y', rasterize=True, width=600, height=400, colorbar=True, cmap='coolwarm').opts(clim=(-0.5,0.5))"
   ]
  },
  {
   "cell_type": "code",
   "execution_count": null,
   "metadata": {},
   "outputs": [],
   "source": [
    "water = NDWI>0\n",
    "water.hvplot.image(x='x', y='y', rasterize=True, width=600, height=400, colorbar=True, cmap='PuOr').opts(clim=(0,1))"
   ]
  },
  {
   "cell_type": "markdown",
   "metadata": {},
   "source": [
    "## Caclulate surface area of reservoir and plot time series"
   ]
  },
  {
   "cell_type": "code",
   "execution_count": null,
   "metadata": {},
   "outputs": [],
   "source": [
    "if water.variable.max() == True:\n",
    "    water_real = water*30*30\n",
    "water_area = water_real.sum(axis=(1,2))\n",
    "\n",
    "%matplotlib inline\n",
    "\n",
    "fig, ax = plt.subplots()\n",
    "(water_area[:]/1000000).plot(ax=ax, linewidth=2, linestyle = '-',  marker='o')\n",
    "ax.set_title(\"Surface area of waterbody in km2\")\n",
    "ax.set_ylabel('Area [km^2]')"
   ]
  }
 ],
 "metadata": {
  "kernelspec": {
   "display_name": "Python 3.8.12 ('insar_analysis')",
   "language": "python",
   "name": "python3"
  },
  "language_info": {
   "name": "python",
   "version": "3.8.12"
  },
  "orig_nbformat": 4,
  "vscode": {
   "interpreter": {
    "hash": "70aaa7775d3c66710519d6273a12113d703c06363db8b21a258b24ecf6f245e7"
   }
  }
 },
 "nbformat": 4,
 "nbformat_minor": 2
}
